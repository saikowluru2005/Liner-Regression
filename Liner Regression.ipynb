{
  "nbformat": 4,
  "nbformat_minor": 0,
  "metadata": {
    "colab": {
      "provenance": [],
      "authorship_tag": "ABX9TyP6pcdtUduTsdfVDnjQjKel",
      "include_colab_link": true
    },
    "kernelspec": {
      "name": "python3",
      "display_name": "Python 3"
    },
    "language_info": {
      "name": "python"
    }
  },
  "cells": [
    {
      "cell_type": "markdown",
      "metadata": {
        "id": "view-in-github",
        "colab_type": "text"
      },
      "source": [
        "<a href=\"https://colab.research.google.com/github/saikowluru2005/Liner-Regression/blob/main/Liner%20Regression.ipynb\" target=\"_parent\"><img src=\"https://colab.research.google.com/assets/colab-badge.svg\" alt=\"Open In Colab\"/></a>"
      ]
    },
    {
      "cell_type": "markdown",
      "source": [
        "**SIMPLE LINER REGRESSION**"
      ],
      "metadata": {
        "id": "SOZH0BeKPf5Y"
      }
    },
    {
      "cell_type": "code",
      "execution_count": 1,
      "metadata": {
        "id": "hX9G6Le5PW5A"
      },
      "outputs": [],
      "source": [
        "import numpy as np\n",
        "import pandas as pd\n",
        "from sklearn.linear_model import LinearRegression\n",
        "from sklearn import metrics"
      ]
    },
    {
      "cell_type": "code",
      "source": [
        "df=pd.read_csv('/content/Stud_Data - Stud_Data.csv')\n",
        "# df=[{\"SID\":\"1\",\"hours_studied\":\"2\",\"scores\":\"60\"},{\"SID\":\"2\",\"hours_studied\":\"4\",\"scores\":\"80\"},{\"SID\":\"3\",\"hours_studied\":\"6\",\"scores\":\"90\"},{\"SID\":\"4\",\"hours_studied\":\"8\",\"scores\":\"100\"},{\"SID\":\"5\",\"hours_studied\":\"10\",\"scores\":\"95\"},{\"SID\":\"6\",\"hours_studied\":\"12\",\"scores\":\"95\"}]"
      ],
      "metadata": {
        "id": "ON6gMr0AQF3y"
      },
      "execution_count": 39,
      "outputs": []
    },
    {
      "cell_type": "code",
      "source": [
        "print(df)"
      ],
      "metadata": {
        "colab": {
          "base_uri": "https://localhost:8080/"
        },
        "id": "SXMmAu2cQX4r",
        "outputId": "bb3f691d-d1cf-4c43-89d7-0e8142fb245b"
      },
      "execution_count": 40,
      "outputs": [
        {
          "output_type": "stream",
          "name": "stdout",
          "text": [
            "   SID  hours_studied  scores\n",
            "0    1              2      60\n",
            "1    2              4      80\n",
            "2    3              6      90\n",
            "3    4              8     100\n",
            "4    5             10      95\n",
            "5    6             12      95\n"
          ]
        }
      ]
    },
    {
      "cell_type": "code",
      "source": [
        "hours=np.array(df[\"hours_studied\"])"
      ],
      "metadata": {
        "id": "lLaEs1FgQZwg"
      },
      "execution_count": 41,
      "outputs": []
    },
    {
      "cell_type": "code",
      "source": [
        "print(hours)"
      ],
      "metadata": {
        "colab": {
          "base_uri": "https://localhost:8080/"
        },
        "id": "2FoyajlFQmQQ",
        "outputId": "0e91b3f1-9122-4b04-8cb3-60c64dcaf4c3"
      },
      "execution_count": 42,
      "outputs": [
        {
          "output_type": "stream",
          "name": "stdout",
          "text": [
            "[ 2  4  6  8 10 12]\n"
          ]
        }
      ]
    },
    {
      "cell_type": "code",
      "source": [
        "print(hours.shape)"
      ],
      "metadata": {
        "colab": {
          "base_uri": "https://localhost:8080/"
        },
        "id": "gY_AC392Qo4g",
        "outputId": "06ea8a8b-9fa4-47fa-aefc-7300d389ddbf"
      },
      "execution_count": 43,
      "outputs": [
        {
          "output_type": "stream",
          "name": "stdout",
          "text": [
            "(6,)\n"
          ]
        }
      ]
    },
    {
      "cell_type": "code",
      "source": [
        "hours=hours.reshape(-1,1)"
      ],
      "metadata": {
        "id": "PA2JzMB_Qt7Y"
      },
      "execution_count": 44,
      "outputs": []
    },
    {
      "cell_type": "code",
      "source": [
        "print(hours)"
      ],
      "metadata": {
        "colab": {
          "base_uri": "https://localhost:8080/"
        },
        "id": "fuF7gBCTRRBQ",
        "outputId": "e51e5175-c6b2-4bb5-9b63-7ce1f317341e"
      },
      "execution_count": 45,
      "outputs": [
        {
          "output_type": "stream",
          "name": "stdout",
          "text": [
            "[[ 2]\n",
            " [ 4]\n",
            " [ 6]\n",
            " [ 8]\n",
            " [10]\n",
            " [12]]\n"
          ]
        }
      ]
    },
    {
      "cell_type": "code",
      "source": [
        "scores=df[\"scores\"]"
      ],
      "metadata": {
        "id": "yhbA-6ljRTMo"
      },
      "execution_count": 46,
      "outputs": []
    },
    {
      "cell_type": "code",
      "source": [
        "print(scores)"
      ],
      "metadata": {
        "colab": {
          "base_uri": "https://localhost:8080/"
        },
        "id": "9ML4wIBOR-s4",
        "outputId": "c45f7634-c54b-4aa1-a6b1-9e8f1c7d4c76"
      },
      "execution_count": 47,
      "outputs": [
        {
          "output_type": "stream",
          "name": "stdout",
          "text": [
            "0     60\n",
            "1     80\n",
            "2     90\n",
            "3    100\n",
            "4     95\n",
            "5     95\n",
            "Name: scores, dtype: int64\n"
          ]
        }
      ]
    },
    {
      "cell_type": "code",
      "source": [
        "model=LinearRegression()"
      ],
      "metadata": {
        "id": "SIPQ0-QBSPzY"
      },
      "execution_count": 48,
      "outputs": []
    },
    {
      "cell_type": "code",
      "source": [
        "model.fit(hours,scores)"
      ],
      "metadata": {
        "colab": {
          "base_uri": "https://localhost:8080/",
          "height": 52
        },
        "id": "_jLp-ny7ShpZ",
        "outputId": "43495b93-4e22-4574-b0df-716d2bf7de8d"
      },
      "execution_count": 49,
      "outputs": [
        {
          "output_type": "execute_result",
          "data": {
            "text/plain": [
              "LinearRegression()"
            ],
            "text/html": [
              "<style>#sk-container-id-2 {color: black;}#sk-container-id-2 pre{padding: 0;}#sk-container-id-2 div.sk-toggleable {background-color: white;}#sk-container-id-2 label.sk-toggleable__label {cursor: pointer;display: block;width: 100%;margin-bottom: 0;padding: 0.3em;box-sizing: border-box;text-align: center;}#sk-container-id-2 label.sk-toggleable__label-arrow:before {content: \"▸\";float: left;margin-right: 0.25em;color: #696969;}#sk-container-id-2 label.sk-toggleable__label-arrow:hover:before {color: black;}#sk-container-id-2 div.sk-estimator:hover label.sk-toggleable__label-arrow:before {color: black;}#sk-container-id-2 div.sk-toggleable__content {max-height: 0;max-width: 0;overflow: hidden;text-align: left;background-color: #f0f8ff;}#sk-container-id-2 div.sk-toggleable__content pre {margin: 0.2em;color: black;border-radius: 0.25em;background-color: #f0f8ff;}#sk-container-id-2 input.sk-toggleable__control:checked~div.sk-toggleable__content {max-height: 200px;max-width: 100%;overflow: auto;}#sk-container-id-2 input.sk-toggleable__control:checked~label.sk-toggleable__label-arrow:before {content: \"▾\";}#sk-container-id-2 div.sk-estimator input.sk-toggleable__control:checked~label.sk-toggleable__label {background-color: #d4ebff;}#sk-container-id-2 div.sk-label input.sk-toggleable__control:checked~label.sk-toggleable__label {background-color: #d4ebff;}#sk-container-id-2 input.sk-hidden--visually {border: 0;clip: rect(1px 1px 1px 1px);clip: rect(1px, 1px, 1px, 1px);height: 1px;margin: -1px;overflow: hidden;padding: 0;position: absolute;width: 1px;}#sk-container-id-2 div.sk-estimator {font-family: monospace;background-color: #f0f8ff;border: 1px dotted black;border-radius: 0.25em;box-sizing: border-box;margin-bottom: 0.5em;}#sk-container-id-2 div.sk-estimator:hover {background-color: #d4ebff;}#sk-container-id-2 div.sk-parallel-item::after {content: \"\";width: 100%;border-bottom: 1px solid gray;flex-grow: 1;}#sk-container-id-2 div.sk-label:hover label.sk-toggleable__label {background-color: #d4ebff;}#sk-container-id-2 div.sk-serial::before {content: \"\";position: absolute;border-left: 1px solid gray;box-sizing: border-box;top: 0;bottom: 0;left: 50%;z-index: 0;}#sk-container-id-2 div.sk-serial {display: flex;flex-direction: column;align-items: center;background-color: white;padding-right: 0.2em;padding-left: 0.2em;position: relative;}#sk-container-id-2 div.sk-item {position: relative;z-index: 1;}#sk-container-id-2 div.sk-parallel {display: flex;align-items: stretch;justify-content: center;background-color: white;position: relative;}#sk-container-id-2 div.sk-item::before, #sk-container-id-2 div.sk-parallel-item::before {content: \"\";position: absolute;border-left: 1px solid gray;box-sizing: border-box;top: 0;bottom: 0;left: 50%;z-index: -1;}#sk-container-id-2 div.sk-parallel-item {display: flex;flex-direction: column;z-index: 1;position: relative;background-color: white;}#sk-container-id-2 div.sk-parallel-item:first-child::after {align-self: flex-end;width: 50%;}#sk-container-id-2 div.sk-parallel-item:last-child::after {align-self: flex-start;width: 50%;}#sk-container-id-2 div.sk-parallel-item:only-child::after {width: 0;}#sk-container-id-2 div.sk-dashed-wrapped {border: 1px dashed gray;margin: 0 0.4em 0.5em 0.4em;box-sizing: border-box;padding-bottom: 0.4em;background-color: white;}#sk-container-id-2 div.sk-label label {font-family: monospace;font-weight: bold;display: inline-block;line-height: 1.2em;}#sk-container-id-2 div.sk-label-container {text-align: center;}#sk-container-id-2 div.sk-container {/* jupyter's `normalize.less` sets `[hidden] { display: none; }` but bootstrap.min.css set `[hidden] { display: none !important; }` so we also need the `!important` here to be able to override the default hidden behavior on the sphinx rendered scikit-learn.org. See: https://github.com/scikit-learn/scikit-learn/issues/21755 */display: inline-block !important;position: relative;}#sk-container-id-2 div.sk-text-repr-fallback {display: none;}</style><div id=\"sk-container-id-2\" class=\"sk-top-container\"><div class=\"sk-text-repr-fallback\"><pre>LinearRegression()</pre><b>In a Jupyter environment, please rerun this cell to show the HTML representation or trust the notebook. <br />On GitHub, the HTML representation is unable to render, please try loading this page with nbviewer.org.</b></div><div class=\"sk-container\" hidden><div class=\"sk-item\"><div class=\"sk-estimator sk-toggleable\"><input class=\"sk-toggleable__control sk-hidden--visually\" id=\"sk-estimator-id-2\" type=\"checkbox\" checked><label for=\"sk-estimator-id-2\" class=\"sk-toggleable__label sk-toggleable__label-arrow\">LinearRegression</label><div class=\"sk-toggleable__content\"><pre>LinearRegression()</pre></div></div></div></div></div>"
            ]
          },
          "metadata": {},
          "execution_count": 49
        }
      ]
    },
    {
      "cell_type": "code",
      "source": [
        "print(\"Beta 0: \",model.intercept_)"
      ],
      "metadata": {
        "colab": {
          "base_uri": "https://localhost:8080/"
        },
        "id": "mEW9Yy-TSkVY",
        "outputId": "effdb1a0-6979-4df8-efeb-04fcdd2fadc7"
      },
      "execution_count": 50,
      "outputs": [
        {
          "output_type": "stream",
          "name": "stdout",
          "text": [
            "Beta 0:  63.66666666666667\n"
          ]
        }
      ]
    },
    {
      "cell_type": "code",
      "source": [
        "print(\"Beta 1: \",model.coef_)"
      ],
      "metadata": {
        "colab": {
          "base_uri": "https://localhost:8080/"
        },
        "id": "lE98gitrSz3Y",
        "outputId": "33aee8c9-c0e2-46b3-f7a4-e547541ab996"
      },
      "execution_count": 51,
      "outputs": [
        {
          "output_type": "stream",
          "name": "stdout",
          "text": [
            "Beta 1:  [3.28571429]\n"
          ]
        }
      ]
    },
    {
      "cell_type": "code",
      "source": [
        "print(\"y=\",model.intercept_,\"+\",model.coef_[0],\"x\")"
      ],
      "metadata": {
        "colab": {
          "base_uri": "https://localhost:8080/"
        },
        "id": "urbDfn0TTD5C",
        "outputId": "b3f0582a-54d7-41e6-bb20-fafa99122807"
      },
      "execution_count": 52,
      "outputs": [
        {
          "output_type": "stream",
          "name": "stdout",
          "text": [
            "y= 63.66666666666667 + 3.285714285714286 x\n"
          ]
        }
      ]
    },
    {
      "cell_type": "code",
      "source": [
        "pridicted=model.predict(hours)"
      ],
      "metadata": {
        "id": "JcYwKnhZUPbx"
      },
      "execution_count": 53,
      "outputs": []
    },
    {
      "cell_type": "code",
      "source": [
        "\n",
        "print(pridicted)"
      ],
      "metadata": {
        "colab": {
          "base_uri": "https://localhost:8080/"
        },
        "id": "VVPJ-5NzUfBI",
        "outputId": "0d4d888c-8ad6-4f52-f711-57e9f93c0d99"
      },
      "execution_count": 54,
      "outputs": [
        {
          "output_type": "stream",
          "name": "stdout",
          "text": [
            "[ 70.23809524  76.80952381  83.38095238  89.95238095  96.52380952\n",
            " 103.0952381 ]\n"
          ]
        }
      ]
    },
    {
      "cell_type": "code",
      "source": [
        "print(df)"
      ],
      "metadata": {
        "colab": {
          "base_uri": "https://localhost:8080/"
        },
        "id": "FfXly-l4WaxI",
        "outputId": "84fbea82-a018-43f2-b9ab-6f29d1d32439"
      },
      "execution_count": 55,
      "outputs": [
        {
          "output_type": "stream",
          "name": "stdout",
          "text": [
            "   SID  hours_studied  scores\n",
            "0    1              2      60\n",
            "1    2              4      80\n",
            "2    3              6      90\n",
            "3    4              8     100\n",
            "4    5             10      95\n",
            "5    6             12      95\n"
          ]
        }
      ]
    },
    {
      "cell_type": "code",
      "source": [
        "max(pridicted)"
      ],
      "metadata": {
        "colab": {
          "base_uri": "https://localhost:8080/"
        },
        "id": "9qnDZW7CWc_P",
        "outputId": "2c41422a-5f74-4659-e623-ce82ab8361d7"
      },
      "execution_count": 56,
      "outputs": [
        {
          "output_type": "execute_result",
          "data": {
            "text/plain": [
              "103.0952380952381"
            ]
          },
          "metadata": {},
          "execution_count": 56
        }
      ]
    },
    {
      "cell_type": "code",
      "source": [
        "df[\"pridicted\"]=pridicted"
      ],
      "metadata": {
        "id": "OZinzYyzWoQ4"
      },
      "execution_count": 57,
      "outputs": []
    },
    {
      "cell_type": "code",
      "source": [
        "print(df)"
      ],
      "metadata": {
        "colab": {
          "base_uri": "https://localhost:8080/"
        },
        "id": "l2Vz5sFHXrTS",
        "outputId": "7dbbf65a-d46d-4d00-f1d1-779ea948801f"
      },
      "execution_count": 58,
      "outputs": [
        {
          "output_type": "stream",
          "name": "stdout",
          "text": [
            "   SID  hours_studied  scores   pridicted\n",
            "0    1              2      60   70.238095\n",
            "1    2              4      80   76.809524\n",
            "2    3              6      90   83.380952\n",
            "3    4              8     100   89.952381\n",
            "4    5             10      95   96.523810\n",
            "5    6             12      95  103.095238\n"
          ]
        }
      ]
    },
    {
      "cell_type": "code",
      "source": [
        "print(\"ORIGINAL SCORES:\\n\",df[\"scores\"])\n",
        "print(\"PREDICTED SCORES:\\n\",df[\"pridicted\"])"
      ],
      "metadata": {
        "colab": {
          "base_uri": "https://localhost:8080/"
        },
        "id": "Tz-uRRRAX3yw",
        "outputId": "efed82d0-7d8a-4bc9-f945-e7c615b8799e"
      },
      "execution_count": 59,
      "outputs": [
        {
          "output_type": "stream",
          "name": "stdout",
          "text": [
            "ORIGINAL SCORES:\n",
            " 0     60\n",
            "1     80\n",
            "2     90\n",
            "3    100\n",
            "4     95\n",
            "5     95\n",
            "Name: scores, dtype: int64\n",
            "PREDICTED SCORES:\n",
            " 0     70.238095\n",
            "1     76.809524\n",
            "2     83.380952\n",
            "3     89.952381\n",
            "4     96.523810\n",
            "5    103.095238\n",
            "Name: pridicted, dtype: float64\n"
          ]
        }
      ]
    },
    {
      "cell_type": "code",
      "source": [
        "print(\"MAE\",metrics.mean_absolute_error(scores,pridicted))\n",
        "print(\"MSE\",metrics.mean_squared_error(scores,pridicted))\n",
        "print(\"RMSE\",np.sqrt(metrics.mean_squared_error(scores,pridicted)))"
      ],
      "metadata": {
        "colab": {
          "base_uri": "https://localhost:8080/"
        },
        "id": "OGSB7EiYYDjn",
        "outputId": "9634fefa-e5b3-4604-8986-921d7589c699"
      },
      "execution_count": 60,
      "outputs": [
        {
          "output_type": "stream",
          "name": "stdout",
          "text": [
            "MAE 6.61904761904762\n",
            "MSE 54.6031746031746\n",
            "RMSE 7.389396091912694\n"
          ]
        }
      ]
    },
    {
      "cell_type": "code",
      "source": [
        "r2 = metrics.r2_score(scores,pridicted)"
      ],
      "metadata": {
        "id": "ZNDEtLaGYQQp"
      },
      "execution_count": 61,
      "outputs": []
    },
    {
      "cell_type": "code",
      "source": [
        "print('r2 score/Coefficient of Determination for perfect model is', r2)"
      ],
      "metadata": {
        "colab": {
          "base_uri": "https://localhost:8080/"
        },
        "id": "WDPHgLAkYZov",
        "outputId": "3abcbc30-c76c-43d8-8b69-934572dc55d8"
      },
      "execution_count": 62,
      "outputs": [
        {
          "output_type": "stream",
          "name": "stdout",
          "text": [
            "r2 score/Coefficient of Determination for perfect model is 0.6975824175824176\n"
          ]
        }
      ]
    },
    {
      "cell_type": "code",
      "source": [
        "print(\"\\nCorrelation Coefficient: r =\",df['hours_studied'].corr(df['scores']))"
      ],
      "metadata": {
        "colab": {
          "base_uri": "https://localhost:8080/"
        },
        "id": "7PWyQ7ryYeLY",
        "outputId": "eb5c36a2-1cbf-4b66-eac6-64ed73abf466"
      },
      "execution_count": 63,
      "outputs": [
        {
          "output_type": "stream",
          "name": "stdout",
          "text": [
            "\n",
            "Correlation Coefficient: r = 0.8352139950829474\n"
          ]
        }
      ]
    },
    {
      "cell_type": "markdown",
      "source": [
        "**MULTIPLE LINEAR REGRESION**"
      ],
      "metadata": {
        "id": "6pl1Mdk-ibjR"
      }
    },
    {
      "cell_type": "code",
      "source": [
        "import numpy as np\n",
        "import pandas as pd\n",
        "from sklearn.linear_model import LinearRegression\n",
        "from sklearn import metrics\n",
        "from sklearn.model_selection import train_test_split"
      ],
      "metadata": {
        "id": "M_1OqIBPYnVg"
      },
      "execution_count": 64,
      "outputs": []
    },
    {
      "cell_type": "code",
      "source": [
        "df=pd.read_csv(\"/content/AgeData - AgeData.csv\")"
      ],
      "metadata": {
        "id": "gkCQ701uZL3g"
      },
      "execution_count": 66,
      "outputs": []
    },
    {
      "cell_type": "code",
      "source": [
        "print(df.describe())"
      ],
      "metadata": {
        "colab": {
          "base_uri": "https://localhost:8080/"
        },
        "id": "Fm4fnz4Xir-n",
        "outputId": "7092f8b4-da39-42bd-8041-00b833795a06"
      },
      "execution_count": 67,
      "outputs": [
        {
          "output_type": "stream",
          "name": "stdout",
          "text": [
            "             ID  Income (in $1000s)  Education Level (Years)  \\\n",
            "count  50.00000           50.000000                50.000000   \n",
            "mean   25.50000           60.260000                17.760000   \n",
            "std    14.57738           11.931454                 2.803496   \n",
            "min     1.00000           40.000000                13.000000   \n",
            "25%    13.25000           50.250000                15.250000   \n",
            "50%    25.50000           59.500000                18.000000   \n",
            "75%    37.75000           68.750000                20.000000   \n",
            "max    50.00000           85.000000                24.000000   \n",
            "\n",
            "       Years of Experience        Age  \n",
            "count            50.000000  50.000000  \n",
            "mean             12.240000  38.560000  \n",
            "std               3.656473   6.972717  \n",
            "min               6.000000  28.000000  \n",
            "25%               9.250000  33.250000  \n",
            "50%              12.000000  37.000000  \n",
            "75%              15.000000  44.000000  \n",
            "max              20.000000  53.000000  \n"
          ]
        }
      ]
    },
    {
      "cell_type": "code",
      "source": [
        "x = df[['Income (in $1000s)', 'Education Level (Years)', 'Years of Experience']]"
      ],
      "metadata": {
        "id": "07QeRDbiiyi6"
      },
      "execution_count": 68,
      "outputs": []
    },
    {
      "cell_type": "code",
      "source": [
        "y= df['Age']"
      ],
      "metadata": {
        "id": "Ls7XFhYui3s_"
      },
      "execution_count": 69,
      "outputs": []
    },
    {
      "cell_type": "code",
      "source": [
        "print(x)"
      ],
      "metadata": {
        "colab": {
          "base_uri": "https://localhost:8080/"
        },
        "id": "r4Y6mvRGi5BY",
        "outputId": "58dd3baa-2eb0-446b-f9ac-165e30885fdd"
      },
      "execution_count": 70,
      "outputs": [
        {
          "output_type": "stream",
          "name": "stdout",
          "text": [
            "    Income (in $1000s)  Education Level (Years)  Years of Experience\n",
            "0                   50                       16                   10\n",
            "1                   60                       18                   12\n",
            "2                   45                       14                    8\n",
            "3                   70                       20                   15\n",
            "4                   55                       17                   11\n",
            "5                   65                       19                   13\n",
            "6                   50                       15                    9\n",
            "7                   80                       22                   18\n",
            "8                   40                       13                    7\n",
            "9                   75                       21                   16\n",
            "10                  52                       16                    9\n",
            "11                  68                       19                   14\n",
            "12                  48                       15                    8\n",
            "13                  58                       17                   12\n",
            "14                  62                       18                   13\n",
            "15                  54                       15                   10\n",
            "16                  77                       21                   17\n",
            "17                  59                       18                   11\n",
            "18                  43                       14                    6\n",
            "19                  69                       20                   15\n",
            "20                  57                       17                   10\n",
            "21                  73                       20                   16\n",
            "22                  47                       14                    9\n",
            "23                  66                       19                   13\n",
            "24                  49                       15                    8\n",
            "25                  61                       18                   12\n",
            "26                  81                       22                   19\n",
            "27                  53                       16                   11\n",
            "28                  74                       21                   15\n",
            "29                  46                       14                    7\n",
            "30                  64                       19                   14\n",
            "31                  56                       17                   11\n",
            "32                  70                       20                   16\n",
            "33                  45                       14                    8\n",
            "34                  60                       18                   13\n",
            "35                  72                       21                   17\n",
            "36                  50                       16                   10\n",
            "37                  67                       19                   14\n",
            "38                  51                       16                   11\n",
            "39                  79                       22                   18\n",
            "40                  54                       15                    9\n",
            "41                  82                       23                   19\n",
            "42                  41                       13                    7\n",
            "43                  63                       19                   13\n",
            "44                  58                       18                   12\n",
            "45                  85                       24                   20\n",
            "46                  42                       14                    6\n",
            "47                  67                       20                   15\n",
            "48                  56                       17                   11\n",
            "49                  64                       19                   14\n"
          ]
        }
      ]
    },
    {
      "cell_type": "code",
      "source": [
        "print(y)"
      ],
      "metadata": {
        "colab": {
          "base_uri": "https://localhost:8080/"
        },
        "id": "QfzXkcExi7v3",
        "outputId": "5f5b2a26-acad-4a0c-e170-e8054422de80"
      },
      "execution_count": 72,
      "outputs": [
        {
          "output_type": "stream",
          "name": "stdout",
          "text": [
            "0     35\n",
            "1     38\n",
            "2     30\n",
            "3     45\n",
            "4     36\n",
            "5     40\n",
            "6     32\n",
            "7     50\n",
            "8     28\n",
            "9     48\n",
            "10    34\n",
            "11    42\n",
            "12    31\n",
            "13    37\n",
            "14    39\n",
            "15    33\n",
            "16    47\n",
            "17    35\n",
            "18    29\n",
            "19    44\n",
            "20    36\n",
            "21    46\n",
            "22    32\n",
            "23    41\n",
            "24    31\n",
            "25    37\n",
            "26    51\n",
            "27    34\n",
            "28    47\n",
            "29    30\n",
            "30    39\n",
            "31    35\n",
            "32    46\n",
            "33    32\n",
            "34    38\n",
            "35    49\n",
            "36    34\n",
            "37    43\n",
            "38    35\n",
            "39    49\n",
            "40    33\n",
            "41    52\n",
            "42    28\n",
            "43    40\n",
            "44    37\n",
            "45    53\n",
            "46    29\n",
            "47    44\n",
            "48    35\n",
            "49    39\n",
            "Name: Age, dtype: int64\n"
          ]
        }
      ]
    },
    {
      "cell_type": "code",
      "source": [
        "x_train, x_test, y_train, y_test=train_test_split(x, y, test_size = 0.3)"
      ],
      "metadata": {
        "id": "2JW5gdzti-RH"
      },
      "execution_count": 73,
      "outputs": []
    },
    {
      "cell_type": "code",
      "source": [
        "mlr = LinearRegression()\n",
        "mlr.fit(x_train, y_train)"
      ],
      "metadata": {
        "colab": {
          "base_uri": "https://localhost:8080/",
          "height": 75
        },
        "id": "N-s211xhjCZI",
        "outputId": "d77c0edc-efb8-47fa-8704-d33e4f517506"
      },
      "execution_count": 74,
      "outputs": [
        {
          "output_type": "execute_result",
          "data": {
            "text/plain": [
              "LinearRegression()"
            ],
            "text/html": [
              "<style>#sk-container-id-3 {color: black;}#sk-container-id-3 pre{padding: 0;}#sk-container-id-3 div.sk-toggleable {background-color: white;}#sk-container-id-3 label.sk-toggleable__label {cursor: pointer;display: block;width: 100%;margin-bottom: 0;padding: 0.3em;box-sizing: border-box;text-align: center;}#sk-container-id-3 label.sk-toggleable__label-arrow:before {content: \"▸\";float: left;margin-right: 0.25em;color: #696969;}#sk-container-id-3 label.sk-toggleable__label-arrow:hover:before {color: black;}#sk-container-id-3 div.sk-estimator:hover label.sk-toggleable__label-arrow:before {color: black;}#sk-container-id-3 div.sk-toggleable__content {max-height: 0;max-width: 0;overflow: hidden;text-align: left;background-color: #f0f8ff;}#sk-container-id-3 div.sk-toggleable__content pre {margin: 0.2em;color: black;border-radius: 0.25em;background-color: #f0f8ff;}#sk-container-id-3 input.sk-toggleable__control:checked~div.sk-toggleable__content {max-height: 200px;max-width: 100%;overflow: auto;}#sk-container-id-3 input.sk-toggleable__control:checked~label.sk-toggleable__label-arrow:before {content: \"▾\";}#sk-container-id-3 div.sk-estimator input.sk-toggleable__control:checked~label.sk-toggleable__label {background-color: #d4ebff;}#sk-container-id-3 div.sk-label input.sk-toggleable__control:checked~label.sk-toggleable__label {background-color: #d4ebff;}#sk-container-id-3 input.sk-hidden--visually {border: 0;clip: rect(1px 1px 1px 1px);clip: rect(1px, 1px, 1px, 1px);height: 1px;margin: -1px;overflow: hidden;padding: 0;position: absolute;width: 1px;}#sk-container-id-3 div.sk-estimator {font-family: monospace;background-color: #f0f8ff;border: 1px dotted black;border-radius: 0.25em;box-sizing: border-box;margin-bottom: 0.5em;}#sk-container-id-3 div.sk-estimator:hover {background-color: #d4ebff;}#sk-container-id-3 div.sk-parallel-item::after {content: \"\";width: 100%;border-bottom: 1px solid gray;flex-grow: 1;}#sk-container-id-3 div.sk-label:hover label.sk-toggleable__label {background-color: #d4ebff;}#sk-container-id-3 div.sk-serial::before {content: \"\";position: absolute;border-left: 1px solid gray;box-sizing: border-box;top: 0;bottom: 0;left: 50%;z-index: 0;}#sk-container-id-3 div.sk-serial {display: flex;flex-direction: column;align-items: center;background-color: white;padding-right: 0.2em;padding-left: 0.2em;position: relative;}#sk-container-id-3 div.sk-item {position: relative;z-index: 1;}#sk-container-id-3 div.sk-parallel {display: flex;align-items: stretch;justify-content: center;background-color: white;position: relative;}#sk-container-id-3 div.sk-item::before, #sk-container-id-3 div.sk-parallel-item::before {content: \"\";position: absolute;border-left: 1px solid gray;box-sizing: border-box;top: 0;bottom: 0;left: 50%;z-index: -1;}#sk-container-id-3 div.sk-parallel-item {display: flex;flex-direction: column;z-index: 1;position: relative;background-color: white;}#sk-container-id-3 div.sk-parallel-item:first-child::after {align-self: flex-end;width: 50%;}#sk-container-id-3 div.sk-parallel-item:last-child::after {align-self: flex-start;width: 50%;}#sk-container-id-3 div.sk-parallel-item:only-child::after {width: 0;}#sk-container-id-3 div.sk-dashed-wrapped {border: 1px dashed gray;margin: 0 0.4em 0.5em 0.4em;box-sizing: border-box;padding-bottom: 0.4em;background-color: white;}#sk-container-id-3 div.sk-label label {font-family: monospace;font-weight: bold;display: inline-block;line-height: 1.2em;}#sk-container-id-3 div.sk-label-container {text-align: center;}#sk-container-id-3 div.sk-container {/* jupyter's `normalize.less` sets `[hidden] { display: none; }` but bootstrap.min.css set `[hidden] { display: none !important; }` so we also need the `!important` here to be able to override the default hidden behavior on the sphinx rendered scikit-learn.org. See: https://github.com/scikit-learn/scikit-learn/issues/21755 */display: inline-block !important;position: relative;}#sk-container-id-3 div.sk-text-repr-fallback {display: none;}</style><div id=\"sk-container-id-3\" class=\"sk-top-container\"><div class=\"sk-text-repr-fallback\"><pre>LinearRegression()</pre><b>In a Jupyter environment, please rerun this cell to show the HTML representation or trust the notebook. <br />On GitHub, the HTML representation is unable to render, please try loading this page with nbviewer.org.</b></div><div class=\"sk-container\" hidden><div class=\"sk-item\"><div class=\"sk-estimator sk-toggleable\"><input class=\"sk-toggleable__control sk-hidden--visually\" id=\"sk-estimator-id-3\" type=\"checkbox\" checked><label for=\"sk-estimator-id-3\" class=\"sk-toggleable__label sk-toggleable__label-arrow\">LinearRegression</label><div class=\"sk-toggleable__content\"><pre>LinearRegression()</pre></div></div></div></div></div>"
            ]
          },
          "metadata": {},
          "execution_count": 74
        }
      ]
    },
    {
      "cell_type": "code",
      "source": [
        "print(\"Intercept: (Beta 0) \", mlr.intercept_)"
      ],
      "metadata": {
        "colab": {
          "base_uri": "https://localhost:8080/"
        },
        "id": "LcZ6AM2fjEwg",
        "outputId": "fc2dc918-77db-4ccb-dff9-d8ecf471ef55"
      },
      "execution_count": 75,
      "outputs": [
        {
          "output_type": "stream",
          "name": "stdout",
          "text": [
            "Intercept: (Beta 0)  5.666910450467974\n"
          ]
        }
      ]
    },
    {
      "cell_type": "code",
      "source": [
        "print(list(zip(x, mlr.coef_)))"
      ],
      "metadata": {
        "colab": {
          "base_uri": "https://localhost:8080/"
        },
        "id": "6-Vyp3rcjHBw",
        "outputId": "c53f5dc9-6e5d-493f-e9db-066703c3e289"
      },
      "execution_count": 77,
      "outputs": [
        {
          "output_type": "stream",
          "name": "stdout",
          "text": [
            "[('Income (in $1000s)', 0.19053680698895237), ('Education Level (Years)', 0.7180734227393957), ('Years of Experience', 0.7073087207230889)]\n"
          ]
        }
      ]
    },
    {
      "cell_type": "code",
      "source": [
        "print(\"\\nCoefficients:\\n Beta 1:\",mlr.coef_[0])\n",
        "print(\"\\n Beta 2:\",mlr.coef_[1])\n",
        "print(\"\\n Beta 3:\",mlr.coef_[2])"
      ],
      "metadata": {
        "colab": {
          "base_uri": "https://localhost:8080/"
        },
        "id": "duf3Qv-OjJLg",
        "outputId": "f9a214c0-4115-43d7-945d-dc781736c3fd"
      },
      "execution_count": 78,
      "outputs": [
        {
          "output_type": "stream",
          "name": "stdout",
          "text": [
            "\n",
            "Coefficients:\n",
            " Beta 1: 0.19053680698895237\n",
            "\n",
            " Beta 2: 0.7180734227393957\n",
            "\n",
            " Beta 3: 0.7073087207230889\n"
          ]
        }
      ]
    },
    {
      "cell_type": "code",
      "source": [
        "print(\"\\nRegression Equation:\",mlr.intercept_,\"+\",mlr.coef_[0],\"*Income (in $1000s)+\"\n",
        ",mlr.coef_[1],\"*Education Level (Years)+\",mlr.coef_[2],\"*Years of Experience\")"
      ],
      "metadata": {
        "colab": {
          "base_uri": "https://localhost:8080/"
        },
        "id": "aeK6tsf4jOs4",
        "outputId": "283d51de-b465-406a-b437-9281bd1d87ef"
      },
      "execution_count": 79,
      "outputs": [
        {
          "output_type": "stream",
          "name": "stdout",
          "text": [
            "\n",
            "Regression Equation: 5.666910450467974 + 0.19053680698895237 *Income (in $1000s)+ 0.7180734227393957 *Education Level (Years)+ 0.7073087207230889 *Years of Experience\n"
          ]
        }
      ]
    },
    {
      "cell_type": "code",
      "source": [
        "y_pred_mlr= mlr.predict(x_test)"
      ],
      "metadata": {
        "id": "iVvRUUgpjR7Q"
      },
      "execution_count": 80,
      "outputs": []
    },
    {
      "cell_type": "code",
      "source": [
        "meanAbErr = metrics.mean_absolute_error(y_test, y_pred_mlr)\n",
        "meanSqErr = metrics.mean_squared_error(y_test, y_pred_mlr)\n",
        "rootMeanSqErr = np.sqrt(metrics.mean_squared_error(y_test, y_pred_mlr))\n",
        "print('\\nR squared: {:.2f}'.format(mlr.score(x,y)))\n",
        "print('Mean Absolute Error:', meanAbErr)\n",
        "print('Mean Square Error:', meanSqErr)\n",
        "print('Root Mean Square Error:', rootMeanSqErr)"
      ],
      "metadata": {
        "colab": {
          "base_uri": "https://localhost:8080/"
        },
        "id": "a0moA0U6jWA4",
        "outputId": "bb6f449b-590b-499c-c19a-45217a9b0e89"
      },
      "execution_count": 81,
      "outputs": [
        {
          "output_type": "stream",
          "name": "stdout",
          "text": [
            "\n",
            "R squared: 0.98\n",
            "Mean Absolute Error: 0.9354945096758271\n",
            "Mean Square Error: 1.3826251325813965\n",
            "Root Mean Square Error: 1.1758508122127553\n"
          ]
        }
      ]
    },
    {
      "cell_type": "code",
      "source": [
        "newobs_df=pd.DataFrame([[38,15,12]], columns=x.columns)"
      ],
      "metadata": {
        "id": "vCasUjSfjZdo"
      },
      "execution_count": 82,
      "outputs": []
    },
    {
      "cell_type": "code",
      "source": [
        "y_pred_new= mlr.predict(newobs_df)\n",
        "print(\"PREDICTED AGE OF NEW RESPONDENT\",y_pred_new[0])"
      ],
      "metadata": {
        "colab": {
          "base_uri": "https://localhost:8080/"
        },
        "id": "Si1kwDy6jdl9",
        "outputId": "72e424aa-7787-43c9-e235-738f5264a65f"
      },
      "execution_count": 83,
      "outputs": [
        {
          "output_type": "stream",
          "name": "stdout",
          "text": [
            "PREDICTED AGE OF NEW RESPONDENT 32.16611510581616\n"
          ]
        }
      ]
    },
    {
      "cell_type": "code",
      "source": [],
      "metadata": {
        "id": "GYii6bHTjgeP"
      },
      "execution_count": null,
      "outputs": []
    }
  ]
}